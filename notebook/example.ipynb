{
 "cells": [
  {
   "cell_type": "code",
   "execution_count": null,
   "metadata": {
    "collapsed": true
   },
   "outputs": [],
   "source": [
    "import matplotlib.pyplot as plt\n",
    "import pickle\n",
    "import os\n",
    "\n",
    "from dotenv import load_dotenv\n",
    "from importlib import reload\n",
    "\n",
    "from src import strava_api\n",
    "from src import strava_cleaner\n",
    "from src import strava_visualizer\n",
    "reload(strava_api)\n",
    "reload(strava_cleaner)\n",
    "reload(strava_visualizer)\n",
    "\n",
    "from src.strava_api import StravaClient\n",
    "from src.strava_cleaner import StravaCleaner\n",
    "from src.strava_visualizer import StravaVisualizer\n",
    "\n",
    "load_dotenv()\n",
    "\n",
    "plt.rc(\"xtick\", labelsize=22)\n",
    "plt.rc(\"ytick\", labelsize=22)\n",
    "plt.style.use(\"ggplot\")"
   ]
  },
  {
   "cell_type": "code",
   "execution_count": null,
   "outputs": [],
   "source": [
    "client = StravaClient(\n",
    "    client_id=os.getenv(\"CLIENT_ID\"),\n",
    "    client_secret=os.getenv(\"CLIENT_SECRET\"),\n",
    "    authorization_code=os.getenv(\"AUTHORIZATION_CODE\"),\n",
    "    refresh_token=os.getenv(\"REFRESH_TOKEN\")\n",
    ")\n",
    "\n",
    "cleaner = StravaCleaner()\n",
    "\n",
    "visualizer = StravaVisualizer(api_key=os.getenv(\"GEOAPIFY_API_KEY\"))"
   ],
   "metadata": {
    "collapsed": false
   }
  },
  {
   "cell_type": "markdown",
   "source": [
    "## Extract Strava Activities"
   ],
   "metadata": {
    "collapsed": false
   }
  },
  {
   "cell_type": "code",
   "execution_count": null,
   "outputs": [],
   "source": [
    "activities = client.extract_activities(file=None)"
   ],
   "metadata": {
    "collapsed": false
   }
  },
  {
   "cell_type": "code",
   "execution_count": null,
   "outputs": [],
   "source": [
    "# with open(\"../data/raw/activities.pkl\", \"rb\") as f:\n",
    "#     activities = pickle.load(f)"
   ],
   "metadata": {
    "collapsed": false
   }
  },
  {
   "cell_type": "markdown",
   "source": [
    "## Clean Strava Activities"
   ],
   "metadata": {
    "collapsed": false
   }
  },
  {
   "cell_type": "code",
   "execution_count": null,
   "outputs": [],
   "source": [
    "activities_clean = cleaner.clean_activities(activities=activities, file=\"../data/clean/activities.pkl\", progress_bar=False)"
   ],
   "metadata": {
    "collapsed": false
   }
  },
  {
   "cell_type": "markdown",
   "source": [
    "## Extract Strava Activity Streams"
   ],
   "metadata": {
    "collapsed": false
   }
  },
  {
   "cell_type": "code",
   "execution_count": null,
   "outputs": [],
   "source": [
    "activity_streams_all = []"
   ],
   "metadata": {
    "collapsed": false
   }
  },
  {
   "cell_type": "code",
   "execution_count": null,
   "outputs": [],
   "source": [
    "# Run this cell as needed and append into activity_streams_all\n",
    "# Necessary to get around Strava's 200/15min API call limit\n",
    "# If you have fewer than 200 tracks, you can specify the file here and save it that way\n",
    "activity_streams = client.extract_activity_streams(\n",
    "    activity_ids=activities_clean[\"activity_id\"].values[0:150],\n",
    "    file=None\n",
    ")\n",
    "\n",
    "activity_streams_all.extend(activity_streams)"
   ],
   "metadata": {
    "collapsed": false
   }
  },
  {
   "cell_type": "code",
   "execution_count": null,
   "outputs": [],
   "source": [
    "# with open(\"../data/raw/streams.pkl\", \"rb\") as f:\n",
    "#     activity_streams_all = pickle.load(f)"
   ],
   "metadata": {
    "collapsed": false
   }
  },
  {
   "cell_type": "markdown",
   "source": [
    "## Clean Strava Activity Streams"
   ],
   "metadata": {
    "collapsed": false
   }
  },
  {
   "cell_type": "code",
   "execution_count": null,
   "outputs": [],
   "source": [
    "streams = cleaner.clean_activity_streams(activity_streams_all, progress_bar=True, file=\"../data/clean/activity_streams.pkl\")"
   ],
   "metadata": {
    "collapsed": false
   }
  },
  {
   "cell_type": "markdown",
   "source": [
    "## Export GPX files from Strava Activity Streams"
   ],
   "metadata": {
    "collapsed": false
   }
  },
  {
   "cell_type": "code",
   "execution_count": null,
   "outputs": [],
   "source": [
    "streams_clean = cleaner.create_gpx_files(\n",
    "    activities=activities_clean,\n",
    "    activity_streams=streams,\n",
    "    save_dir=\"../data/gpx/\"\n",
    ")"
   ],
   "metadata": {
    "collapsed": false
   }
  },
  {
   "cell_type": "markdown",
   "source": [
    "## Generate Heatmap"
   ],
   "metadata": {
    "collapsed": false
   }
  },
  {
   "cell_type": "code",
   "execution_count": null,
   "outputs": [],
   "source": [
    "heatmap = visualizer.generate_heatmap(\n",
    "    gpx_dir=\"../data/gpx/\",\n",
    "    file=\"../img/heatmap.png\",\n",
    "    zoom=12,  # Zoom level for the tiles. -1 auto zooms\n",
    "    sigma=1,  # Width of heatmap track\n",
    "    year_filter=None,  # Activities for this year\n",
    "    lat_lon_bounds=(39.813811, -105.558014, 40.166281, -105.195465)  # Boulder\n",
    "    # lat_lon_bounds=(37.788624, -122.392159, 37.895718, -122.219810)  # Oakland\n",
    ")"
   ],
   "metadata": {
    "collapsed": false
   }
  },
  {
   "cell_type": "code",
   "execution_count": null,
   "outputs": [],
   "source": [
    "# Some open source map tiles cause problems unless you visit the webpage\n",
    "# Displaying and visiting the urls sometimes fixes the issue\n",
    "# Looking at you Wikimedia\n",
    "for url in visualizer.bad_urls:\n",
    "    print(url)"
   ],
   "metadata": {
    "collapsed": false
   }
  }
 ],
 "metadata": {
  "kernelspec": {
   "display_name": "Python 3",
   "language": "python",
   "name": "python3"
  },
  "language_info": {
   "codemirror_mode": {
    "name": "ipython",
    "version": 2
   },
   "file_extension": ".py",
   "mimetype": "text/x-python",
   "name": "python",
   "nbconvert_exporter": "python",
   "pygments_lexer": "ipython2",
   "version": "2.7.6"
  }
 },
 "nbformat": 4,
 "nbformat_minor": 0
}
