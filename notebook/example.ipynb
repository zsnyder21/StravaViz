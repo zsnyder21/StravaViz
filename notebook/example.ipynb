{
 "cells": [
  {
   "cell_type": "code",
   "execution_count": 70,
   "metadata": {
    "collapsed": true
   },
   "outputs": [],
   "source": [
    "import sys\n",
    "sys.path.append(\"../\")\n",
    "\n",
    "import matplotlib.pyplot as plt\n",
    "import pickle\n",
    "import os\n",
    "import time\n",
    "\n",
    "from dotenv import load_dotenv\n",
    "from importlib import reload\n",
    "from tqdm.auto import tqdm\n",
    "\n",
    "from src import strava_api\n",
    "from src import strava_cleaner\n",
    "from src import strava_visualizer\n",
    "reload(strava_api)\n",
    "reload(strava_cleaner)\n",
    "reload(strava_visualizer)\n",
    "\n",
    "from src.strava_api import StravaClient\n",
    "from src.strava_cleaner import StravaCleaner\n",
    "from src.strava_visualizer import StravaVisualizer\n",
    "\n",
    "load_dotenv()\n",
    "\n",
    "plt.rc(\"xtick\", labelsize=22)\n",
    "plt.rc(\"ytick\", labelsize=22)\n",
    "plt.style.use(\"ggplot\")"
   ]
  },
  {
   "cell_type": "code",
   "execution_count": 71,
   "metadata": {
    "collapsed": false
   },
   "outputs": [],
   "source": [
    "client = StravaClient(\n",
    "    client_id=os.getenv(\"CLIENT_ID\"),\n",
    "    client_secret=os.getenv(\"CLIENT_SECRET\"),\n",
    "    authorization_code=os.getenv(\"AUTHORIZATION_CODE\"),\n",
    "    refresh_token=os.getenv(\"REFRESH_TOKEN\")\n",
    ")\n",
    "\n",
    "cleaner = StravaCleaner()\n",
    "\n",
    "visualizer = StravaVisualizer(api_key=os.getenv(\"GEOAPIFY_API_KEY\"), override_max_zoom=True)"
   ]
  },
  {
   "cell_type": "code",
   "execution_count": 40,
   "metadata": {},
   "outputs": [],
   "source": [
    "def wait(seconds: int = 902) -> None:\n",
    "    t = 0\n",
    "    with tqdm(total=seconds) as pbar:\n",
    "        while t < seconds:\n",
    "            time.sleep(1)\n",
    "            mins = f\"{(seconds - t) // 60}\".rjust(2, \"0\")\n",
    "            secs = f\"{(seconds - t) % 60}\".rjust(2, \"0\")\n",
    "            pbar.set_description(f\"Rate Limit Time Remaining: {mins}:{secs}\")\n",
    "            pbar.update(1)\n",
    "\n",
    "            t += 1"
   ]
  },
  {
   "cell_type": "markdown",
   "metadata": {
    "collapsed": false
   },
   "source": [
    "## Extract Strava Activities"
   ]
  },
  {
   "cell_type": "code",
   "execution_count": 5,
   "metadata": {
    "collapsed": false
   },
   "outputs": [],
   "source": [
    "# activities = client.extract_activities(file=\"../data/raw/activities.pkl\")"
   ]
  },
  {
   "cell_type": "code",
   "execution_count": 6,
   "metadata": {
    "collapsed": false
   },
   "outputs": [],
   "source": [
    "with open(\"../data/raw/activities.pkl\", \"rb\") as f:\n",
    "    activities = pickle.load(f)"
   ]
  },
  {
   "cell_type": "markdown",
   "metadata": {
    "collapsed": false
   },
   "source": [
    "## Clean Strava Activities"
   ]
  },
  {
   "cell_type": "code",
   "execution_count": 7,
   "metadata": {
    "collapsed": false
   },
   "outputs": [],
   "source": [
    "activities_clean = cleaner.clean_activities(activities=activities, file=\"../data/clean/activities.pkl\", progress_bar=False)"
   ]
  },
  {
   "cell_type": "code",
   "execution_count": 16,
   "metadata": {},
   "outputs": [
    {
     "name": "stdout",
     "output_type": "stream",
     "text": [
      "<class 'pandas.core.frame.DataFrame'>\n",
      "RangeIndex: 420 entries, 0 to 419\n",
      "Data columns (total 23 columns):\n",
      " #   Column             Non-Null Count  Dtype              \n",
      "---  ------             --------------  -----              \n",
      " 0   activity_id        420 non-null    int64              \n",
      " 1   name               420 non-null    object             \n",
      " 2   type               420 non-null    object             \n",
      " 3   distance           420 non-null    float64            \n",
      " 4   moving_time        420 non-null    int64              \n",
      " 5   elapsed_time       420 non-null    int64              \n",
      " 6   elevation_gain     420 non-null    float64            \n",
      " 7   start_date         420 non-null    datetime64[ns, UTC]\n",
      " 8   start_date_local   420 non-null    datetime64[ns, UTC]\n",
      " 9   flagged            420 non-null    bool               \n",
      " 10  start_latitude     415 non-null    float64            \n",
      " 11  start_longitude    415 non-null    float64            \n",
      " 12  end_latitude       415 non-null    float64            \n",
      " 13  end_longitude      415 non-null    float64            \n",
      " 14  average_speed      420 non-null    float64            \n",
      " 15  max_speed          420 non-null    float64            \n",
      " 16  average_heartrate  400 non-null    float64            \n",
      " 17  max_heartrate      400 non-null    float64            \n",
      " 18  min_elevation      417 non-null    float64            \n",
      " 19  max_elevation      417 non-null    float64            \n",
      " 20  kilojoules         183 non-null    float64            \n",
      " 21  suffer_score       410 non-null    float64            \n",
      " 22  map_polyline       420 non-null    object             \n",
      "dtypes: bool(1), datetime64[ns, UTC](2), float64(14), int64(3), object(3)\n",
      "memory usage: 72.7+ KB\n"
     ]
    }
   ],
   "source": [
    "activities_clean.info()"
   ]
  },
  {
   "cell_type": "code",
   "execution_count": 37,
   "metadata": {},
   "outputs": [
    {
     "data": {
      "text/html": [
       "<div>\n",
       "<style scoped>\n",
       "    .dataframe tbody tr th:only-of-type {\n",
       "        vertical-align: middle;\n",
       "    }\n",
       "\n",
       "    .dataframe tbody tr th {\n",
       "        vertical-align: top;\n",
       "    }\n",
       "\n",
       "    .dataframe thead th {\n",
       "        text-align: right;\n",
       "    }\n",
       "</style>\n",
       "<table border=\"1\" class=\"dataframe\">\n",
       "  <thead>\n",
       "    <tr style=\"text-align: right;\">\n",
       "      <th></th>\n",
       "      <th>activity_id</th>\n",
       "      <th>name</th>\n",
       "      <th>type</th>\n",
       "      <th>distance</th>\n",
       "      <th>moving_time</th>\n",
       "      <th>elapsed_time</th>\n",
       "      <th>elevation_gain</th>\n",
       "      <th>start_date</th>\n",
       "      <th>start_date_local</th>\n",
       "      <th>flagged</th>\n",
       "      <th>...</th>\n",
       "      <th>end_longitude</th>\n",
       "      <th>average_speed</th>\n",
       "      <th>max_speed</th>\n",
       "      <th>average_heartrate</th>\n",
       "      <th>max_heartrate</th>\n",
       "      <th>min_elevation</th>\n",
       "      <th>max_elevation</th>\n",
       "      <th>kilojoules</th>\n",
       "      <th>suffer_score</th>\n",
       "      <th>map_polyline</th>\n",
       "    </tr>\n",
       "  </thead>\n",
       "  <tbody>\n",
       "    <tr>\n",
       "      <th>0</th>\n",
       "      <td>11832289523</td>\n",
       "      <td>SuperJames</td>\n",
       "      <td>Ride</td>\n",
       "      <td>70509.6</td>\n",
       "      <td>11434</td>\n",
       "      <td>12271</td>\n",
       "      <td>1390.0</td>\n",
       "      <td>2024-07-07 14:32:53+00:00</td>\n",
       "      <td>2024-07-07 08:32:53+00:00</td>\n",
       "      <td>False</td>\n",
       "      <td>...</td>\n",
       "      <td>-105.226865</td>\n",
       "      <td>6.167</td>\n",
       "      <td>22.210</td>\n",
       "      <td>146.7</td>\n",
       "      <td>176.0</td>\n",
       "      <td>1599.2</td>\n",
       "      <td>2605.8</td>\n",
       "      <td>2421.1</td>\n",
       "      <td>236.0</td>\n",
       "      <td>adcsFbcgaS_CDbA_Ea@cCyo@LIft@cCvDWzUwKvGsEfAi[...</td>\n",
       "    </tr>\n",
       "    <tr>\n",
       "      <th>1</th>\n",
       "      <td>11816599118</td>\n",
       "      <td>Superman</td>\n",
       "      <td>Ride</td>\n",
       "      <td>36762.5</td>\n",
       "      <td>7189</td>\n",
       "      <td>8112</td>\n",
       "      <td>817.0</td>\n",
       "      <td>2024-07-05 17:00:14+00:00</td>\n",
       "      <td>2024-07-05 11:00:14+00:00</td>\n",
       "      <td>False</td>\n",
       "      <td>...</td>\n",
       "      <td>-105.226841</td>\n",
       "      <td>5.114</td>\n",
       "      <td>19.094</td>\n",
       "      <td>148.7</td>\n",
       "      <td>175.0</td>\n",
       "      <td>1604.8</td>\n",
       "      <td>2349.4</td>\n",
       "      <td>1390.4</td>\n",
       "      <td>165.0</td>\n",
       "      <td>_dcsFxbgaSuBD|@uES_Ba@Ymo@l@Exs@g@lBwAtAZ|YEfG...</td>\n",
       "    </tr>\n",
       "    <tr>\n",
       "      <th>2</th>\n",
       "      <td>11808917002</td>\n",
       "      <td>Boulder Creek Path</td>\n",
       "      <td>Ride</td>\n",
       "      <td>22761.6</td>\n",
       "      <td>4758</td>\n",
       "      <td>6663</td>\n",
       "      <td>126.0</td>\n",
       "      <td>2024-07-04 16:20:50+00:00</td>\n",
       "      <td>2024-07-04 10:20:50+00:00</td>\n",
       "      <td>False</td>\n",
       "      <td>...</td>\n",
       "      <td>-105.226860</td>\n",
       "      <td>4.784</td>\n",
       "      <td>12.690</td>\n",
       "      <td>106.1</td>\n",
       "      <td>148.0</td>\n",
       "      <td>1594.8</td>\n",
       "      <td>1645.0</td>\n",
       "      <td>510.3</td>\n",
       "      <td>14.0</td>\n",
       "      <td>secsFf}faSJe@m@mBil@PuBTKd@@|KFIG@DpTG|P[bAw@b...</td>\n",
       "    </tr>\n",
       "    <tr>\n",
       "      <th>3</th>\n",
       "      <td>11777566872</td>\n",
       "      <td>Mt. Graham</td>\n",
       "      <td>Ride</td>\n",
       "      <td>64387.7</td>\n",
       "      <td>13979</td>\n",
       "      <td>14487</td>\n",
       "      <td>1830.0</td>\n",
       "      <td>2024-06-30 14:41:18+00:00</td>\n",
       "      <td>2024-06-30 07:41:18+00:00</td>\n",
       "      <td>False</td>\n",
       "      <td>...</td>\n",
       "      <td>-109.733802</td>\n",
       "      <td>4.606</td>\n",
       "      <td>19.332</td>\n",
       "      <td>142.5</td>\n",
       "      <td>174.0</td>\n",
       "      <td>1056.8</td>\n",
       "      <td>2796.6</td>\n",
       "      <td>2504.5</td>\n",
       "      <td>245.0</td>\n",
       "      <td>iqsfErqw|S~sBhtBjUhTlCxGk@lFsC~B_I]qCdAiBrEb@v...</td>\n",
       "    </tr>\n",
       "    <tr>\n",
       "      <th>4</th>\n",
       "      <td>11770056607</td>\n",
       "      <td>Mt. Lemmon</td>\n",
       "      <td>Ride</td>\n",
       "      <td>94977.9</td>\n",
       "      <td>17099</td>\n",
       "      <td>23078</td>\n",
       "      <td>2350.0</td>\n",
       "      <td>2024-06-29 13:35:31+00:00</td>\n",
       "      <td>2024-06-29 06:35:31+00:00</td>\n",
       "      <td>False</td>\n",
       "      <td>...</td>\n",
       "      <td>-110.754903</td>\n",
       "      <td>5.555</td>\n",
       "      <td>23.450</td>\n",
       "      <td>148.1</td>\n",
       "      <td>167.0</td>\n",
       "      <td>839.8</td>\n",
       "      <td>2787.4</td>\n",
       "      <td>3690.2</td>\n",
       "      <td>372.0</td>\n",
       "      <td>embdEfz~bTw_Au~@mZwDqTeKjBaD`RrBfCiEkHmIjD}I]c...</td>\n",
       "    </tr>\n",
       "    <tr>\n",
       "      <th>...</th>\n",
       "      <td>...</td>\n",
       "      <td>...</td>\n",
       "      <td>...</td>\n",
       "      <td>...</td>\n",
       "      <td>...</td>\n",
       "      <td>...</td>\n",
       "      <td>...</td>\n",
       "      <td>...</td>\n",
       "      <td>...</td>\n",
       "      <td>...</td>\n",
       "      <td>...</td>\n",
       "      <td>...</td>\n",
       "      <td>...</td>\n",
       "      <td>...</td>\n",
       "      <td>...</td>\n",
       "      <td>...</td>\n",
       "      <td>...</td>\n",
       "      <td>...</td>\n",
       "      <td>...</td>\n",
       "      <td>...</td>\n",
       "      <td>...</td>\n",
       "    </tr>\n",
       "    <tr>\n",
       "      <th>415</th>\n",
       "      <td>3067067698</td>\n",
       "      <td>Lazy Sunday</td>\n",
       "      <td>Run</td>\n",
       "      <td>5227.1</td>\n",
       "      <td>2029</td>\n",
       "      <td>2033</td>\n",
       "      <td>36.1</td>\n",
       "      <td>2020-02-02 23:28:02+00:00</td>\n",
       "      <td>2020-02-02 15:28:02+00:00</td>\n",
       "      <td>False</td>\n",
       "      <td>...</td>\n",
       "      <td>-121.918445</td>\n",
       "      <td>2.576</td>\n",
       "      <td>4.100</td>\n",
       "      <td>NaN</td>\n",
       "      <td>NaN</td>\n",
       "      <td>145.3</td>\n",
       "      <td>177.1</td>\n",
       "      <td>NaN</td>\n",
       "      <td>9.0</td>\n",
       "      <td>abneFdsbgV@ICWIOGi@Q[M]Ea@a@gAAM@G|@s@^OZSj@SP...</td>\n",
       "    </tr>\n",
       "    <tr>\n",
       "      <th>416</th>\n",
       "      <td>3062896560</td>\n",
       "      <td>Morning Musings</td>\n",
       "      <td>Run</td>\n",
       "      <td>8375.0</td>\n",
       "      <td>2769</td>\n",
       "      <td>2801</td>\n",
       "      <td>30.7</td>\n",
       "      <td>2020-02-01 17:15:59+00:00</td>\n",
       "      <td>2020-02-01 09:15:59+00:00</td>\n",
       "      <td>False</td>\n",
       "      <td>...</td>\n",
       "      <td>-121.914203</td>\n",
       "      <td>3.025</td>\n",
       "      <td>5.100</td>\n",
       "      <td>NaN</td>\n",
       "      <td>NaN</td>\n",
       "      <td>145.3</td>\n",
       "      <td>167.6</td>\n",
       "      <td>NaN</td>\n",
       "      <td>49.0</td>\n",
       "      <td>caneFdtbgVg@sAWcAGKEAI]GK?IEWUs@?M@GVGRKlA{@PQ...</td>\n",
       "    </tr>\n",
       "    <tr>\n",
       "      <th>417</th>\n",
       "      <td>3055527801</td>\n",
       "      <td>Post CrossFit Haste</td>\n",
       "      <td>Run</td>\n",
       "      <td>5852.6</td>\n",
       "      <td>1899</td>\n",
       "      <td>1903</td>\n",
       "      <td>14.0</td>\n",
       "      <td>2020-01-30 04:23:37+00:00</td>\n",
       "      <td>2020-01-29 20:23:37+00:00</td>\n",
       "      <td>False</td>\n",
       "      <td>...</td>\n",
       "      <td>-122.263449</td>\n",
       "      <td>3.082</td>\n",
       "      <td>9.100</td>\n",
       "      <td>NaN</td>\n",
       "      <td>NaN</td>\n",
       "      <td>1.1</td>\n",
       "      <td>7.5</td>\n",
       "      <td>NaN</td>\n",
       "      <td>50.0</td>\n",
       "      <td>uuweFfxgiV?MBKj@{AxBsEFSd@}@Tq@No@@cAJ_AGu@BI?...</td>\n",
       "    </tr>\n",
       "    <tr>\n",
       "      <th>418</th>\n",
       "      <td>3047107124</td>\n",
       "      <td>Sunday Funday</td>\n",
       "      <td>Run</td>\n",
       "      <td>4507.7</td>\n",
       "      <td>1364</td>\n",
       "      <td>1541</td>\n",
       "      <td>24.5</td>\n",
       "      <td>2020-01-27 04:00:37+00:00</td>\n",
       "      <td>2020-01-26 20:00:37+00:00</td>\n",
       "      <td>False</td>\n",
       "      <td>...</td>\n",
       "      <td>-121.914202</td>\n",
       "      <td>3.305</td>\n",
       "      <td>5.400</td>\n",
       "      <td>NaN</td>\n",
       "      <td>NaN</td>\n",
       "      <td>145.3</td>\n",
       "      <td>167.6</td>\n",
       "      <td>NaN</td>\n",
       "      <td>43.0</td>\n",
       "      <td>aaneF`tbgVUe@AKEIa@kAIM[kAY}@C[HKVMt@Yj@Y|@[`B...</td>\n",
       "    </tr>\n",
       "    <tr>\n",
       "      <th>419</th>\n",
       "      <td>3038118287</td>\n",
       "      <td>Christening this app</td>\n",
       "      <td>Run</td>\n",
       "      <td>10172.4</td>\n",
       "      <td>3351</td>\n",
       "      <td>3654</td>\n",
       "      <td>71.9</td>\n",
       "      <td>2020-01-24 03:27:54+00:00</td>\n",
       "      <td>2020-01-23 19:27:54+00:00</td>\n",
       "      <td>False</td>\n",
       "      <td>...</td>\n",
       "      <td>-121.918416</td>\n",
       "      <td>3.036</td>\n",
       "      <td>4.900</td>\n",
       "      <td>NaN</td>\n",
       "      <td>NaN</td>\n",
       "      <td>141.6</td>\n",
       "      <td>171.9</td>\n",
       "      <td>NaN</td>\n",
       "      <td>144.0</td>\n",
       "      <td>kaneFhtbgVIs@Ws@GWUi@_@cAOgABMnBoAVM\\YXMb@W^]b...</td>\n",
       "    </tr>\n",
       "  </tbody>\n",
       "</table>\n",
       "<p>420 rows × 23 columns</p>\n",
       "</div>"
      ],
      "text/plain": [
       "     activity_id                  name  type  distance  moving_time  \\\n",
       "0    11832289523            SuperJames  Ride   70509.6        11434   \n",
       "1    11816599118              Superman  Ride   36762.5         7189   \n",
       "2    11808917002    Boulder Creek Path  Ride   22761.6         4758   \n",
       "3    11777566872            Mt. Graham  Ride   64387.7        13979   \n",
       "4    11770056607            Mt. Lemmon  Ride   94977.9        17099   \n",
       "..           ...                   ...   ...       ...          ...   \n",
       "415   3067067698           Lazy Sunday   Run    5227.1         2029   \n",
       "416   3062896560       Morning Musings   Run    8375.0         2769   \n",
       "417   3055527801   Post CrossFit Haste   Run    5852.6         1899   \n",
       "418   3047107124         Sunday Funday   Run    4507.7         1364   \n",
       "419   3038118287  Christening this app   Run   10172.4         3351   \n",
       "\n",
       "     elapsed_time  elevation_gain                start_date  \\\n",
       "0           12271          1390.0 2024-07-07 14:32:53+00:00   \n",
       "1            8112           817.0 2024-07-05 17:00:14+00:00   \n",
       "2            6663           126.0 2024-07-04 16:20:50+00:00   \n",
       "3           14487          1830.0 2024-06-30 14:41:18+00:00   \n",
       "4           23078          2350.0 2024-06-29 13:35:31+00:00   \n",
       "..            ...             ...                       ...   \n",
       "415          2033            36.1 2020-02-02 23:28:02+00:00   \n",
       "416          2801            30.7 2020-02-01 17:15:59+00:00   \n",
       "417          1903            14.0 2020-01-30 04:23:37+00:00   \n",
       "418          1541            24.5 2020-01-27 04:00:37+00:00   \n",
       "419          3654            71.9 2020-01-24 03:27:54+00:00   \n",
       "\n",
       "             start_date_local  flagged  ...  end_longitude  average_speed  \\\n",
       "0   2024-07-07 08:32:53+00:00    False  ...    -105.226865          6.167   \n",
       "1   2024-07-05 11:00:14+00:00    False  ...    -105.226841          5.114   \n",
       "2   2024-07-04 10:20:50+00:00    False  ...    -105.226860          4.784   \n",
       "3   2024-06-30 07:41:18+00:00    False  ...    -109.733802          4.606   \n",
       "4   2024-06-29 06:35:31+00:00    False  ...    -110.754903          5.555   \n",
       "..                        ...      ...  ...            ...            ...   \n",
       "415 2020-02-02 15:28:02+00:00    False  ...    -121.918445          2.576   \n",
       "416 2020-02-01 09:15:59+00:00    False  ...    -121.914203          3.025   \n",
       "417 2020-01-29 20:23:37+00:00    False  ...    -122.263449          3.082   \n",
       "418 2020-01-26 20:00:37+00:00    False  ...    -121.914202          3.305   \n",
       "419 2020-01-23 19:27:54+00:00    False  ...    -121.918416          3.036   \n",
       "\n",
       "     max_speed  average_heartrate  max_heartrate  min_elevation  \\\n",
       "0       22.210              146.7          176.0         1599.2   \n",
       "1       19.094              148.7          175.0         1604.8   \n",
       "2       12.690              106.1          148.0         1594.8   \n",
       "3       19.332              142.5          174.0         1056.8   \n",
       "4       23.450              148.1          167.0          839.8   \n",
       "..         ...                ...            ...            ...   \n",
       "415      4.100                NaN            NaN          145.3   \n",
       "416      5.100                NaN            NaN          145.3   \n",
       "417      9.100                NaN            NaN            1.1   \n",
       "418      5.400                NaN            NaN          145.3   \n",
       "419      4.900                NaN            NaN          141.6   \n",
       "\n",
       "     max_elevation  kilojoules  suffer_score  \\\n",
       "0           2605.8      2421.1         236.0   \n",
       "1           2349.4      1390.4         165.0   \n",
       "2           1645.0       510.3          14.0   \n",
       "3           2796.6      2504.5         245.0   \n",
       "4           2787.4      3690.2         372.0   \n",
       "..             ...         ...           ...   \n",
       "415          177.1         NaN           9.0   \n",
       "416          167.6         NaN          49.0   \n",
       "417            7.5         NaN          50.0   \n",
       "418          167.6         NaN          43.0   \n",
       "419          171.9         NaN         144.0   \n",
       "\n",
       "                                          map_polyline  \n",
       "0    adcsFbcgaS_CDbA_Ea@cCyo@LIft@cCvDWzUwKvGsEfAi[...  \n",
       "1    _dcsFxbgaSuBD|@uES_Ba@Ymo@l@Exs@g@lBwAtAZ|YEfG...  \n",
       "2    secsFf}faSJe@m@mBil@PuBTKd@@|KFIG@DpTG|P[bAw@b...  \n",
       "3    iqsfErqw|S~sBhtBjUhTlCxGk@lFsC~B_I]qCdAiBrEb@v...  \n",
       "4    embdEfz~bTw_Au~@mZwDqTeKjBaD`RrBfCiEkHmIjD}I]c...  \n",
       "..                                                 ...  \n",
       "415  abneFdsbgV@ICWIOGi@Q[M]Ea@a@gAAM@G|@s@^OZSj@SP...  \n",
       "416  caneFdtbgVg@sAWcAGKEAI]GK?IEWUs@?M@GVGRKlA{@PQ...  \n",
       "417  uuweFfxgiV?MBKj@{AxBsEFSd@}@Tq@No@@cAJ_AGu@BI?...  \n",
       "418  aaneF`tbgVUe@AKEIa@kAIM[kAY}@C[HKVMt@Yj@Y|@[`B...  \n",
       "419  kaneFhtbgVIs@Ws@GWUi@_@cAOgABMnBoAVM\\YXMb@W^]b...  \n",
       "\n",
       "[420 rows x 23 columns]"
      ]
     },
     "execution_count": 37,
     "metadata": {},
     "output_type": "execute_result"
    }
   ],
   "source": [
    "activities_clean"
   ]
  },
  {
   "cell_type": "markdown",
   "metadata": {
    "collapsed": false
   },
   "source": [
    "## Extract Strava Activity Streams"
   ]
  },
  {
   "cell_type": "code",
   "execution_count": 21,
   "metadata": {
    "collapsed": false
   },
   "outputs": [],
   "source": [
    "activity_streams_all = []"
   ]
  },
  {
   "cell_type": "code",
   "execution_count": 20,
   "metadata": {},
   "outputs": [
    {
     "name": "stderr",
     "output_type": "stream",
     "text": [
      "Rate Limit Time Remaining: 00:01: 100%|██████████| 902/902 [15:03<00:00,  1.00s/it]\n"
     ]
    }
   ],
   "source": [
    "wait()"
   ]
  },
  {
   "cell_type": "code",
   "execution_count": 22,
   "metadata": {},
   "outputs": [
    {
     "name": "stdout",
     "output_type": "stream",
     "text": [
      "Processing activities 1 to 94\n"
     ]
    },
    {
     "name": "stderr",
     "output_type": "stream",
     "text": [
      "Rate Limit Time Remaining: 00:01: 100%|██████████| 902/902 [15:03<00:00,  1.00s/it]\n"
     ]
    },
    {
     "name": "stdout",
     "output_type": "stream",
     "text": [
      "Processing activities 95 to 188\n"
     ]
    },
    {
     "name": "stderr",
     "output_type": "stream",
     "text": [
      "Rate Limit Time Remaining: 00:01: 100%|██████████| 902/902 [15:03<00:00,  1.00s/it]\n"
     ]
    },
    {
     "name": "stdout",
     "output_type": "stream",
     "text": [
      "Processing activities 189 to 282\n"
     ]
    },
    {
     "name": "stderr",
     "output_type": "stream",
     "text": [
      "Rate Limit Time Remaining: 00:01: 100%|██████████| 902/902 [15:03<00:00,  1.00s/it]\n"
     ]
    },
    {
     "name": "stdout",
     "output_type": "stream",
     "text": [
      "Processing activities 283 to 376\n"
     ]
    },
    {
     "name": "stderr",
     "output_type": "stream",
     "text": [
      "Rate Limit Time Remaining: 00:01: 100%|██████████| 902/902 [15:03<00:00,  1.00s/it]\n"
     ]
    },
    {
     "name": "stdout",
     "output_type": "stream",
     "text": [
      "Processing activities 377 to 420\n"
     ]
    },
    {
     "name": "stderr",
     "output_type": "stream",
     "text": [
      "Rate Limit Time Remaining: 00:01: 100%|██████████| 902/902 [15:03<00:00,  1.00s/it]\n"
     ]
    }
   ],
   "source": [
    "# If you have more than 1000 activities and do not have an enhanced Strava Developer rate limit\n",
    "# it will likely be easiest to just manually download your GPX files and proceed to visualization\n",
    "start = 0\n",
    "batch_size = 94\n",
    "end = start + batch_size\n",
    "total = len(activities)\n",
    "while start < total:\n",
    "    print(f\"Processing activities {start + 1} to {end}\")\n",
    "    activity_streams = client.extract_activity_streams(\n",
    "        activity_ids=activities_clean[\"activity_id\"].values[start:end],\n",
    "        file=None\n",
    "    )\n",
    "\n",
    "    activity_streams_all.extend(activity_streams)\n",
    "    \n",
    "    start += batch_size\n",
    "    end = min(total, end + batch_size)\n",
    "    if start < total:\n",
    "        wait(902)\n"
   ]
  },
  {
   "cell_type": "code",
   "execution_count": 23,
   "metadata": {},
   "outputs": [],
   "source": [
    "with open(\"../data/raw/streams.pkl\", \"wb\") as f:\n",
    "    pickle.dump(activity_streams_all, f)"
   ]
  },
  {
   "cell_type": "code",
   "execution_count": null,
   "metadata": {
    "collapsed": false
   },
   "outputs": [],
   "source": [
    "# with open(\"../data/raw/streams.pkl\", \"rb\") as f:\n",
    "#     activity_streams_all = pickle.load(f)"
   ]
  },
  {
   "cell_type": "markdown",
   "metadata": {
    "collapsed": false
   },
   "source": [
    "## Clean Strava Activity Streams"
   ]
  },
  {
   "cell_type": "code",
   "execution_count": 25,
   "metadata": {
    "collapsed": false
   },
   "outputs": [
    {
     "name": "stderr",
     "output_type": "stream",
     "text": [
      "Processing stream 3038118287: 100%|██████████| 420/420 [00:01<00:00, 402.68it/s]\n"
     ]
    }
   ],
   "source": [
    "streams = cleaner.clean_activity_streams(activity_streams_all, progress_bar=True, file=\"../data/clean/activity_streams.pkl\")"
   ]
  },
  {
   "cell_type": "markdown",
   "metadata": {
    "collapsed": false
   },
   "source": [
    "## Export GPX files from Strava Activity Streams"
   ]
  },
  {
   "cell_type": "code",
   "execution_count": 26,
   "metadata": {
    "collapsed": false
   },
   "outputs": [
    {
     "name": "stderr",
     "output_type": "stream",
     "text": [
      "Processing activity 11832289523: 100%|██████████| 420/420 [01:14<00:00,  5.62it/s]\n"
     ]
    }
   ],
   "source": [
    "streams_clean = cleaner.create_gpx_files(\n",
    "    activities=activities_clean,\n",
    "    activity_streams=streams,\n",
    "    save_dir=\"../data/gpx/\"\n",
    ")"
   ]
  },
  {
   "cell_type": "markdown",
   "metadata": {
    "collapsed": false
   },
   "source": [
    "## Generate Heatmap"
   ]
  },
  {
   "cell_type": "code",
   "execution_count": 78,
   "metadata": {
    "collapsed": false
   },
   "outputs": [
    {
     "name": "stderr",
     "output_type": "stream",
     "text": [
      "Processing 9972386845.gpx: 100%|██████████| 415/415 [00:02<00:00, 206.57it/s]\n",
      "Downloading tiles: 100%|██████████| 143/143 [01:33<00:00,  1.53it/s]\n"
     ]
    }
   ],
   "source": [
    "heatmap = visualizer.generate_heatmap(\n",
    "    gpx_dir=\"../data/gpx/\",\n",
    "    file=\"../img/graham_heatmap.png\",\n",
    "    zoom=15,  # Zoom level for the tiles. -1 auto zooms\n",
    "    sigma=2,  # Width of heatmap track\n",
    "    year_filter=2024,  # Activities for this year\n",
    "    brightness_factor=10.0,  # Manually brighten tracks (1 is default brightness, higher is more bright)\n",
    "    # lat_lon_bounds=(39.813811, -105.558014, 40.166281, -105.195465)  # Boulder\n",
    "    # lat_lon_bounds=(37.788624, -122.392159, 37.895718, -122.219810)  # Oakland\n",
    "    # lat_lon_bounds=(31.614796, -111.743317, 32.598891, -110.533447),  # Tucson\n",
    "    lat_lon_bounds=(32.614653, -109.899330, 32.735740, -109.708271)  # Mt. Graham\n",
    ")"
   ]
  },
  {
   "cell_type": "code",
   "execution_count": null,
   "metadata": {},
   "outputs": [],
   "source": [
    "heatmap = visualizer.generate_heatmap(\n",
    "    gpx_dir=\"../data/gpx/\",\n",
    "    file=\"../img/tucson_heatmap.png\",\n",
    "    zoom=14,  # Zoom level for the tiles. -1 auto zooms\n",
    "    sigma=2,  # Width of heatmap track\n",
    "    year_filter=2024,  # Activities for this year\n",
    "    brightness_factor=10.0,  # Manually brighten tracks (1 is default brightness, higher is more bright)\n",
    "    # lat_lon_bounds=(39.813811, -105.558014, 40.166281, -105.195465)  # Boulder\n",
    "    # lat_lon_bounds=(37.788624, -122.392159, 37.895718, -122.219810)  # Oakland\n",
    "    lat_lon_bounds=(31.614796, -111.743317, 32.598891, -110.533447),  # Tucson\n",
    "    # lat_lon_bounds=(32.614653, -109.899330, 32.735740, -109.708271)  # Mt. Graham\n",
    ")"
   ]
  },
  {
   "cell_type": "code",
   "execution_count": null,
   "metadata": {
    "collapsed": false
   },
   "outputs": [],
   "source": [
    "# Some open source map tiles cause problems unless you visit the webpage\n",
    "# Displaying and visiting the urls sometimes fixes the issue\n",
    "# Looking at you Wikimedia\n",
    "for url in visualizer.bad_urls:\n",
    "    print(url)"
   ]
  },
  {
   "cell_type": "code",
   "execution_count": null,
   "metadata": {},
   "outputs": [],
   "source": []
  }
 ],
 "metadata": {
  "kernelspec": {
   "display_name": "Python 3",
   "language": "python",
   "name": "python3"
  },
  "language_info": {
   "codemirror_mode": {
    "name": "ipython",
    "version": 3
   },
   "file_extension": ".py",
   "mimetype": "text/x-python",
   "name": "python",
   "nbconvert_exporter": "python",
   "pygments_lexer": "ipython3",
   "version": "3.11.5"
  }
 },
 "nbformat": 4,
 "nbformat_minor": 0
}
